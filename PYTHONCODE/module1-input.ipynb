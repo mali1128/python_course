{
 "cells": [
  {
   "cell_type": "code",
   "execution_count": 1,
   "id": "a3bb80d7",
   "metadata": {},
   "outputs": [
    {
     "name": "stdout",
     "output_type": "stream",
     "text": [
      "What is your name?\n",
      "Mustafa\n",
      "Hello, Mustafa\n"
     ]
    }
   ],
   "source": [
    "print('What is your name?')\n",
    "user_name = input()\n",
    "print('Hello,', user_name)"
   ]
  },
  {
   "cell_type": "code",
   "execution_count": 1,
   "id": "23673dbd",
   "metadata": {},
   "outputs": [
    {
     "name": "stdout",
     "output_type": "stream",
     "text": [
      "What is your name?Mustafa\n",
      "Hello, Mustafa\n"
     ]
    }
   ],
   "source": [
    "user_name = input('What is your name?')\n",
    "print('Hello,', user_name)"
   ]
  },
  {
   "cell_type": "code",
   "execution_count": 4,
   "id": "9eed5e24",
   "metadata": {},
   "outputs": [
    {
     "name": "stdout",
     "output_type": "stream",
     "text": [
      "Enter your login: m_ali\n",
      "Enter your native language: english\n",
      "Your login is m_ali and you speak english\n"
     ]
    }
   ],
   "source": [
    "login = input('Enter your login: ')\n",
    "native_language = input('Enter your native language: ')\n",
    "print('Your login is', login, 'and you speak', native_language)"
   ]
  },
  {
   "cell_type": "code",
   "execution_count": null,
   "id": "88b76c1e",
   "metadata": {},
   "outputs": [],
   "source": []
  }
 ],
 "metadata": {
  "kernelspec": {
   "display_name": "Python 3 (ipykernel)",
   "language": "python",
   "name": "python3"
  },
  "language_info": {
   "codemirror_mode": {
    "name": "ipython",
    "version": 3
   },
   "file_extension": ".py",
   "mimetype": "text/x-python",
   "name": "python",
   "nbconvert_exporter": "python",
   "pygments_lexer": "ipython3",
   "version": "3.9.12"
  }
 },
 "nbformat": 4,
 "nbformat_minor": 5
}
