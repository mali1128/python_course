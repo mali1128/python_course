{
 "cells": [
  {
   "cell_type": "code",
   "execution_count": 1,
   "id": "bffe5263",
   "metadata": {},
   "outputs": [
    {
     "data": {
      "text/plain": [
       "12000300"
      ]
     },
     "execution_count": 1,
     "metadata": {},
     "output_type": "execute_result"
    }
   ],
   "source": [
    "# underscores in numbers help readability\n",
    "120003000\n",
    "12_000_300"
   ]
  },
  {
   "cell_type": "code",
   "execution_count": 2,
   "id": "11cd7757",
   "metadata": {},
   "outputs": [
    {
     "name": "stdout",
     "output_type": "stream",
     "text": [
      "3e-25\n"
     ]
    }
   ],
   "source": [
    "# scientific notation\n",
    "# 3e4 = 3E4 = 3 * 10000 = 30000\n",
    "# 3e-4 = 3E-4 = 3 * 1/10000 = 0.003\n",
    "print (0.0000000000000000000000003)"
   ]
  },
  {
   "cell_type": "code",
   "execution_count": 3,
   "id": "2f3c6342",
   "metadata": {},
   "outputs": [
    {
     "name": "stdout",
     "output_type": "stream",
     "text": [
      "83\n"
     ]
    }
   ],
   "source": [
    "# octal numbers\n",
    "# start with 0o or 0O\n",
    "print (0o123)"
   ]
  },
  {
   "cell_type": "code",
   "execution_count": null,
   "id": "1237edf7",
   "metadata": {},
   "outputs": [],
   "source": []
  }
 ],
 "metadata": {
  "kernelspec": {
   "display_name": "Python 3 (ipykernel)",
   "language": "python",
   "name": "python3"
  },
  "language_info": {
   "codemirror_mode": {
    "name": "ipython",
    "version": 3
   },
   "file_extension": ".py",
   "mimetype": "text/x-python",
   "name": "python",
   "nbconvert_exporter": "python",
   "pygments_lexer": "ipython3",
   "version": "3.9.12"
  }
 },
 "nbformat": 4,
 "nbformat_minor": 5
}
