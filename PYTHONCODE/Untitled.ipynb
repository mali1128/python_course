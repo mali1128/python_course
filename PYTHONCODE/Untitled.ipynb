{
 "cells": [
  {
   "cell_type": "code",
   "execution_count": 3,
   "id": "3589a732",
   "metadata": {},
   "outputs": [
    {
     "name": "stdout",
     "output_type": "stream",
     "text": [
      "Your income is 250000 and you would pay 12500.0 income tax in Lowtaxland or 107500.0 income tax in Ripoffland. You would save 95000.0 by paying taxes in Lowtaxland!\n"
     ]
    }
   ],
   "source": [
    "income = 250_000\n",
    "lowtaxland_rate = 5e-2\n",
    "ripoffland_rate = .43\n",
    "print('Your income is', 250_000, 'and you would pay', income * lowtaxland_rate,'income tax in Lowtaxland or', income * ripoffland_rate, 'income tax in Ripoffland. You would save', income * ripoffland_rate - income * lowtaxland_rate, 'by paying taxes in Lowtaxland!')"
   ]
  },
  {
   "cell_type": "code",
   "execution_count": null,
   "id": "ac5c84b6",
   "metadata": {},
   "outputs": [],
   "source": []
  }
 ],
 "metadata": {
  "kernelspec": {
   "display_name": "Python 3 (ipykernel)",
   "language": "python",
   "name": "python3"
  },
  "language_info": {
   "codemirror_mode": {
    "name": "ipython",
    "version": 3
   },
   "file_extension": ".py",
   "mimetype": "text/x-python",
   "name": "python",
   "nbconvert_exporter": "python",
   "pygments_lexer": "ipython3",
   "version": "3.9.12"
  }
 },
 "nbformat": 4,
 "nbformat_minor": 5
}
