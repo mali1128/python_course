{
 "cells": [
  {
   "cell_type": "code",
   "execution_count": 1,
   "id": "2ce3e582",
   "metadata": {},
   "outputs": [],
   "source": [
    "greeting = 'Hello, friend!'"
   ]
  },
  {
   "cell_type": "code",
   "execution_count": 2,
   "id": "ae32c453",
   "metadata": {},
   "outputs": [],
   "source": [
    "age = 35"
   ]
  },
  {
   "cell_type": "code",
   "execution_count": 3,
   "id": "ff24e91d",
   "metadata": {},
   "outputs": [],
   "source": [
    "speed1 = 4.5\n",
    "speed2 = 4.0\n",
    "speed3 = 4.\n",
    "speed4 = 4"
   ]
  },
  {
   "cell_type": "code",
   "execution_count": 4,
   "id": "2f0696d3",
   "metadata": {},
   "outputs": [
    {
     "ename": "NameError",
     "evalue": "name 'true' is not defined",
     "output_type": "error",
     "traceback": [
      "\u001b[0;31m---------------------------------------------------------------------------\u001b[0m",
      "\u001b[0;31mNameError\u001b[0m                                 Traceback (most recent call last)",
      "Input \u001b[0;32mIn [4]\u001b[0m, in \u001b[0;36m<cell line: 1>\u001b[0;34m()\u001b[0m\n\u001b[0;32m----> 1\u001b[0m am_i_ugly \u001b[38;5;241m=\u001b[39m \u001b[43mtrue\u001b[49m\n",
      "\u001b[0;31mNameError\u001b[0m: name 'true' is not defined"
     ]
    }
   ],
   "source": [
    "am_i_ugly = true"
   ]
  },
  {
   "cell_type": "code",
   "execution_count": null,
   "id": "16b68830",
   "metadata": {},
   "outputs": [],
   "source": []
  }
 ],
 "metadata": {
  "kernelspec": {
   "display_name": "Python 3 (ipykernel)",
   "language": "python",
   "name": "python3"
  },
  "language_info": {
   "codemirror_mode": {
    "name": "ipython",
    "version": 3
   },
   "file_extension": ".py",
   "mimetype": "text/x-python",
   "name": "python",
   "nbconvert_exporter": "python",
   "pygments_lexer": "ipython3",
   "version": "3.9.12"
  }
 },
 "nbformat": 4,
 "nbformat_minor": 5
}
